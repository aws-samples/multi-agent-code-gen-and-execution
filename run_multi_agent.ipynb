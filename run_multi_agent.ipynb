{
 "cells": [
  {
   "cell_type": "markdown",
   "metadata": {},
   "source": [
    "### Invoke the Multi-agent\n",
    "---\n",
    "\n",
    "This notebook contains simple logic to invoke the Multi agent that is created in your account. This notebook requires the following information, assuming that the agentic system is already created in your account:\n",
    "\n",
    "1. **Multi-agent, and sub agents IDs and Alias IDs**: This information can be found on the Bedrock console for the respective agents.\n",
    "\n",
    "1. **Names of the agents**."
   ]
  },
  {
   "cell_type": "code",
   "execution_count": null,
   "metadata": {},
   "outputs": [],
   "source": [
    "import os\n",
    "import sys\n",
    "import uuid\n",
    "import json\n",
    "import time\n",
    "import boto3\n",
    "import logging\n",
    "from dotenv import load_dotenv\n",
    "\n",
    "# Get the current file's directory\n",
    "current_dir = os.path.dirname(os.path.abspath('__file__'))\n",
    "\n",
    "# Get the parent directory\n",
    "parent_dir = os.path.dirname(current_dir)\n",
    "print(parent_dir)\n",
    "\n",
    "# Add the parent directory to sys.path\n",
    "sys.path.append(parent_dir)\n",
    "from globals import *"
   ]
  },
  {
   "cell_type": "code",
   "execution_count": null,
   "metadata": {},
   "outputs": [],
   "source": [
    "# set a logger\n",
    "logging.basicConfig(format='[%(asctime)s] p%(process)s {%(filename)s:%(lineno)d} %(levelname)s - %(message)s', level=logging.INFO)\n",
    "logger = logging.getLogger(__name__)"
   ]
  },
  {
   "cell_type": "code",
   "execution_count": null,
   "metadata": {},
   "outputs": [],
   "source": [
    "# configure the sts client, the boto3 session and other variables\n",
    "sts_client = boto3.client('sts')\n",
    "session = boto3.session.Session()\n",
    "\n",
    "account_id = sts_client.get_caller_identity()[\"Account\"]\n",
    "region = session.region_name\n",
    "account_id_suffix = account_id[:3]\n",
    "agent_suffix = f\"{region}-{account_id_suffix}\"\n",
    "\n",
    "s3_client = boto3.client('s3', region)\n",
    "bedrock_client = boto3.client('bedrock-runtime', region)"
   ]
  },
  {
   "cell_type": "markdown",
   "metadata": {},
   "source": [
    "### Load the config file\n",
    "--- \n",
    "\n",
    "Load the config file that contains information on the supervisor routing logic."
   ]
  },
  {
   "cell_type": "code",
   "execution_count": null,
   "metadata": {},
   "outputs": [],
   "source": [
    "import sys\n",
    "import pandas as pd\n",
    "sys.path.insert(0, \".\")\n",
    "sys.path.insert(1, \"..\")\n",
    "# Import utility functions and helper functions for agents\n",
    "from utils.utils import *"
   ]
  },
  {
   "cell_type": "code",
   "execution_count": null,
   "metadata": {},
   "outputs": [],
   "source": [
    "# Get the absolute path to the config file\n",
    "# This config file contains data about the directory paths, the API specs that\n",
    "# are used to generate the code, and the agent foundation models that are used to generate the code.\n",
    "BASE_DIR = os.path.abspath(sys.path[1])\n",
    "CONFIG_FPATH = os.path.join(BASE_DIR, CONFIG_FNAME)\n",
    "config_data = load_config(CONFIG_FPATH)\n",
    "logger.info(f\"Loaded config from local file system: {json.dumps(config_data, indent=2)}\")"
   ]
  },
  {
   "cell_type": "code",
   "execution_count": null,
   "metadata": {},
   "outputs": [],
   "source": [
    "import sys\n",
    "\n",
    "sys.path.insert(0, \".\")\n",
    "sys.path.insert(1, \"..\")\n",
    "\n",
    "from utils.bedrock_agent_helper import (\n",
    "    AgentsForAmazonBedrock\n",
    ")\n",
    "agents = AgentsForAmazonBedrock()"
   ]
  },
  {
   "cell_type": "markdown",
   "metadata": {},
   "source": [
    "#### Extract the Multi agent information"
   ]
  },
  {
   "cell_type": "code",
   "execution_count": null,
   "metadata": {},
   "outputs": [],
   "source": [
    "# Extract agent IDs and alias IDs from config_data\n",
    "home_networking_id = '<your-home-networking-assistant-id>'\n",
    "home_networking_alias_id = '<your-home-networking-assistant-alias-id>'\n",
    "doorbell_id = '<your-doorbell-configuration-assistant-id>'\n",
    "doorbell_alias_id = '<your-doorbell-configuration-assistant-alias-id>'\n",
    "multi_agent_id = '<your-multi-agent-id>'\n",
    "\n",
    "# Create the multi_agent_names dictionary\n",
    "multi_agent_names = {\n",
    "    f\"{home_networking_id}/{home_networking_alias_id}\": '<your-home-assistant-agent-name>',\n",
    "    f\"{doorbell_id}/{doorbell_alias_id}\": '<your-doorbell-configuration-agent-name>'\n",
    "}"
   ]
  },
  {
   "cell_type": "code",
   "execution_count": null,
   "metadata": {},
   "outputs": [],
   "source": [
    "multi_agent_names"
   ]
  },
  {
   "cell_type": "markdown",
   "metadata": {},
   "source": [
    "#### Invoke the multi agent"
   ]
  },
  {
   "cell_type": "code",
   "execution_count": null,
   "metadata": {},
   "outputs": [],
   "source": [
    "%%time\n",
    "session_id:str = str(uuid.uuid1())\n",
    "\n",
    "response = agents.invoke(\n",
    "    \"\"\"Is my living room camera online? My devideId is madhur2039.\"\"\", \n",
    "    multi_agent_id,\n",
    "    session_id=session_id,\n",
    "    enable_trace=True,\n",
    "    multi_agent_names=multi_agent_names\n",
    ")\n",
    "print(\"====================\")\n",
    "print(response)"
   ]
  }
 ],
 "metadata": {
  "kernelspec": {
   "display_name": "base",
   "language": "python",
   "name": "python3"
  },
  "language_info": {
   "codemirror_mode": {
    "name": "ipython",
    "version": 3
   },
   "file_extension": ".py",
   "mimetype": "text/x-python",
   "name": "python",
   "nbconvert_exporter": "python",
   "pygments_lexer": "ipython3",
   "version": "3.11.7"
  }
 },
 "nbformat": 4,
 "nbformat_minor": 2
}
