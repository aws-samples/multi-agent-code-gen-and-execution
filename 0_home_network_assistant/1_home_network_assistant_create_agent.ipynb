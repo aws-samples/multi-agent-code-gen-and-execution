{
 "cells": [
  {
   "cell_type": "markdown",
   "metadata": {},
   "source": [
    "### Home Network Assistant - Creating an Agent\n",
    "---\n",
    "\n",
    "In this notebook we show you how to create your first sub-agent on Amazon Bedrock Agents.\n",
    "\n",
    "Amazon Bedrock Agents enable generative AI applications to execute `multi-step` business tasks using natural language.\n",
    "\n",
    "In our second example we will create a `Home Network` sub agent that will have access to an `API` spec and will be able to generate code to call the `API` based on the user request.\n",
    "\n",
    "**Agent code generation and execution workflow**:\n",
    "\n",
    "In this notebook, we will perform the following: Create an Agent, use the response generated from the knowledge base (from running notebook `0`) and generate code for the API spec. \n",
    "\n",
    "***The agent will have access to an action group with several tools. These tools will be accessible by the agent to get the user query, retrieve relevant data from the knowledge base using the query, identify the API spec needed to answer the user question and generate python code for it, save the code and execute the code to provide the user with the answer to their question.***"
   ]
  },
  {
   "cell_type": "markdown",
   "metadata": {},
   "source": [
    "### Creating Agent\n",
    "\n",
    "On this section we declare global variables that will be act as helpers during entire notebook and you will start to create your first agent."
   ]
  },
  {
   "cell_type": "code",
   "execution_count": null,
   "metadata": {},
   "outputs": [],
   "source": [
    "import os\n",
    "import sys\n",
    "import uuid\n",
    "import json\n",
    "import time\n",
    "import boto3\n",
    "import logging\n",
    "from typing import Optional\n",
    "from dotenv import load_dotenv\n",
    "\n",
    "# Get the current file's directory\n",
    "current_dir = os.path.dirname(os.path.abspath('__file__'))\n",
    "\n",
    "# Get the parent directory\n",
    "parent_dir = os.path.dirname(current_dir)\n",
    "print(parent_dir)\n",
    "\n",
    "# Add the parent directory to sys.path\n",
    "sys.path.append(parent_dir)\n",
    "from globals import *"
   ]
  },
  {
   "cell_type": "code",
   "execution_count": null,
   "metadata": {},
   "outputs": [],
   "source": [
    "# Load the environment variables that are defined in the \".env\" file.\n",
    "load_dotenv"
   ]
  },
  {
   "cell_type": "code",
   "execution_count": null,
   "metadata": {},
   "outputs": [],
   "source": [
    "# set a logger\n",
    "logging.basicConfig(format='[%(asctime)s] p%(process)s {%(filename)s:%(lineno)d} %(levelname)s - %(message)s', level=logging.INFO)\n",
    "logger = logging.getLogger(__name__)"
   ]
  },
  {
   "cell_type": "code",
   "execution_count": null,
   "metadata": {},
   "outputs": [],
   "source": [
    "# configure the sts client, the boto3 session and other variables\n",
    "sts_client = boto3.client('sts')\n",
    "session = boto3.session.Session()\n",
    "\n",
    "account_id = sts_client.get_caller_identity()[\"Account\"]\n",
    "account_id_suffix = account_id[:3]"
   ]
  },
  {
   "cell_type": "markdown",
   "metadata": {},
   "source": [
    "### Importing helper functions\n",
    "\n",
    "On following section, we're adding `bedrock_agent_helper.py` on Python path, so the files can be recognized and their functionalities can be invoked.\n",
    "\n",
    "Those files contain helper classes totally focused on make labs experience smoothly.\n",
    "\n",
    "All interactions with Bedrock will be handled by these classes.\n",
    "\n",
    "Following are methods that you're going to invoke on this lab:\n",
    "\n",
    "On `agents.py`:\n",
    "\n",
    "1. `create_agent`: Create a new agent and respective IAM roles\n",
    "1. `add_action_group_with_lambda`: Create a lambda function and add it as an action group for a previous created agent\n",
    "1. `create_agent_alias`: Create an alias for this agent\n",
    "1. `invoke`: Execute agent"
   ]
  },
  {
   "cell_type": "code",
   "execution_count": null,
   "metadata": {},
   "outputs": [],
   "source": [
    "import sys\n",
    "sys.path.insert(0, \".\")\n",
    "sys.path.insert(1, \"..\")\n",
    "from utils.utils import *\n",
    "\n",
    "region = get_aws_region()\n",
    "logger.info(f\"Detected AWS Region: {region}\")\n",
    "agent_suffix = f\"{region}-{account_id_suffix}\"\n",
    "s3_client = boto3.client('s3', region)\n",
    "bedrock_client = boto3.client('bedrock-runtime', region)\n",
    "\n",
    "# Import utility functions and helper functions for agents\n",
    "from utils.utils import *\n",
    "from utils.bedrock_agent_helper import (\n",
    "    AgentsForAmazonBedrock\n",
    ")\n",
    "agents = AgentsForAmazonBedrock()"
   ]
  },
  {
   "cell_type": "markdown",
   "metadata": {},
   "source": [
    "### Load the config file\n",
    "--- \n",
    "\n",
    "Load the config file that contains information on the models, data directories, etc."
   ]
  },
  {
   "cell_type": "code",
   "execution_count": null,
   "metadata": {},
   "outputs": [],
   "source": [
    "# Get the absolute path to the config file\n",
    "BASE_DIR = os.path.abspath(sys.path[1])\n",
    "CONFIG_FPATH = os.path.join(BASE_DIR, CONFIG_FNAME)\n",
    "config_data = load_config(CONFIG_FPATH)\n",
    "logger.info(f\"Loaded config from local file system: {json.dumps(config_data, indent=2)}\")"
   ]
  },
  {
   "cell_type": "markdown",
   "metadata": {},
   "source": [
    "### Creating Agent\n",
    "---\n",
    "\n",
    "Create the `Home Network` assistant agent that will have access to API specs that it can refer to and generate code for the API of interest and execute the code.\n",
    "\n",
    "In order to have accurate agents, it is important to set unambiguous instructions of what the agent should do and what it should not do. It is also important to provide clear definitions for when the agent should use the knowledge bases and action groups available to it.\n",
    "\n",
    "This agent will have access to the output from the previously created KB and returns search results for the top `k` elements that are retrieved from the API spec."
   ]
  },
  {
   "cell_type": "code",
   "execution_count": null,
   "metadata": {},
   "outputs": [],
   "source": [
    "agent_description = \"\"\"You are a Home Network assistant agent.\n",
    "You help generate code for Home Network API operations based on user questions and knowledge base content.\"\"\""
   ]
  },
  {
   "cell_type": "code",
   "execution_count": null,
   "metadata": {},
   "outputs": [],
   "source": [
    "instructions_path: str = os.path.join(config_data['dir_paths']['agent_instructions_prefix'], \n",
    "                                      config_data['dir_paths']['agent_instructions'].get('home_network_agent_instructions'))\n",
    "agent_instruction = open(os.path.join(parent_dir, instructions_path), 'r').read()"
   ]
  },
  {
   "cell_type": "code",
   "execution_count": null,
   "metadata": {},
   "outputs": [],
   "source": [
    "print(agent_instruction)"
   ]
  },
  {
   "cell_type": "markdown",
   "metadata": {},
   "source": [
    "### Code Generation Prompt: Bedrock prompt management\n",
    "---\n",
    "\n",
    "Let's create our sample code generation prompt by leveraging on Prompt Management for Amazon Bedrock. This is the prompt that is used by the sub agent to generate the code when it calls the `generate_code` tool."
   ]
  },
  {
   "cell_type": "code",
   "execution_count": null,
   "metadata": {},
   "outputs": [],
   "source": [
    "def read_prompt_from_file(file_path: str) -> str:\n",
    "    with open(file_path, 'r') as file:\n",
    "        return file.read().strip()\n",
    "\n",
    "prompt_file_path = os.path.join(\n",
    "    config_data['dir_paths']['code_gen_prompts_prefix'],\n",
    "    config_data['dir_paths']['code_gen_prompts'].get('home_network_code_generation_prompt')\n",
    ")\n",
    "\n",
    "absolute_prompt_fpath = os.path.join(\n",
    "    parent_dir,\n",
    "    prompt_file_path\n",
    ")\n",
    "\n",
    "prompt_template_code_gen: str = read_prompt_from_file(absolute_prompt_fpath)\n",
    "print(f\"Code generation prompt that will be saved in prompt management within Bedrock: {prompt_template_code_gen}\")"
   ]
  },
  {
   "cell_type": "code",
   "execution_count": null,
   "metadata": {},
   "outputs": [],
   "source": [
    "bedrock_agent = boto3.client(service_name = \"bedrock-agent\", region_name = region)\n",
    "response = bedrock_agent.create_prompt(\n",
    "    name = f\"prompt-for-home-network-code-gen\",\n",
    "    description = \"Code generation prompt template that is used by the home networking agent to generate code\",\n",
    "    variants = [\n",
    "        {\n",
    "            \"name\": \"variantOne\",\n",
    "            \"templateConfiguration\": {\n",
    "                \"text\": {\n",
    "                    \"inputVariables\": [\n",
    "                        {\n",
    "                            \"name\": \"input\"\n",
    "                        },\n",
    "                        {\n",
    "                            \"name\": \"output\"\n",
    "                        }\n",
    "                    ],\n",
    "                    \"text\": prompt_template_code_gen\n",
    "                }\n",
    "            },\n",
    "            \"templateType\": \"TEXT\"\n",
    "        }\n",
    "    ],\n",
    "    defaultVariant = \"variantOne\"\n",
    ")\n",
    "\n",
    "print(json.dumps(response, indent=2, default=str))\n",
    "promptId = response[\"id\"]\n",
    "promptArn = response[\"arn\"]\n",
    "promptName = response[\"name\"]\n",
    "print(f\"Prompt ID: {promptId}\\nPrompt ARN: {promptArn}\\nPrompt Name: {promptName}\")"
   ]
  },
  {
   "cell_type": "code",
   "execution_count": null,
   "metadata": {},
   "outputs": [],
   "source": [
    "# Now that we have a draft prompt, we can create a version from it.\n",
    "response = bedrock_agent.create_prompt_version(\n",
    "    promptIdentifier = promptId\n",
    ")\n",
    "print(json.dumps(response, indent=2, default=str))"
   ]
  },
  {
   "cell_type": "markdown",
   "metadata": {},
   "source": [
    "### Creating Lambda\n",
    "\n",
    "In order to enable the agent to execute tasks, we will create an AWS Lambda function that implements the tasks execution. We will then provide this lambda with tools that the agent will have access to while answering user questions."
   ]
  },
  {
   "cell_type": "code",
   "execution_count": null,
   "metadata": {},
   "outputs": [],
   "source": [
    "# create the function definitions\n",
    "functions_def = [\n",
    "    {\n",
    "        \"name\": \"query_knowledge_base\",\n",
    "        \"description\": \"Queries the knowledge base with the user's query to fetch relevant API documentation and returns the relevant chunks\",\n",
    "        \"parameters\": {\n",
    "            \"query\": {\n",
    "                \"description\": \"This is the user's query\",\n",
    "                \"required\": True,\n",
    "                \"type\": \"string\"\n",
    "            }\n",
    "        }\n",
    "    },\n",
    "    {\n",
    "        \"name\": \"generate_code\",\n",
    "        \"description\": \"Generates Python code based on the knowledge base content and user query\",\n",
    "        \"parameters\": {\n",
    "            \"chunks\": {\n",
    "                \"description\": \"List of relevant content chunks from the knowledge base\",\n",
    "                \"required\": True,\n",
    "                \"type\": \"array\"\n",
    "            },\n",
    "            \"query\": {\n",
    "                \"description\": \"The original user query to provide context for code generation\",\n",
    "                \"required\": True,\n",
    "                \"type\": \"string\"\n",
    "            }, \n",
    "            \"input_params\": {\n",
    "                \"description\": \"JSON string containing input parameters needed to execute the generated code\",\n",
    "                \"required\": True,\n",
    "                \"type\": \"string\"\n",
    "            }\n",
    "        }\n",
    "    },\n",
    "    {\n",
    "        \"name\": \"save_generated_code\",\n",
    "        \"description\": \"Saves the generated Python code to a temporary file\",\n",
    "        \"parameters\": {\n",
    "            \"code_content\": {\n",
    "                \"description\": \"The generated Python code to be saved\",\n",
    "                \"required\": True,\n",
    "                \"type\": \"string\"\n",
    "            }\n",
    "        }\n",
    "    },\n",
    "    {\n",
    "        \"name\": \"execute_generated_code\",\n",
    "        \"description\": \"Executes the saved Python code and returns the execution results\",\n",
    "        \"parameters\": {\n",
    "            \"file_path\": {\n",
    "                \"description\": \"Path to the saved Python code file to execute\",\n",
    "                \"required\": True,\n",
    "                \"type\": \"string\"\n",
    "            }\n",
    "        }\n",
    "    }\n",
    "]"
   ]
  },
  {
   "cell_type": "code",
   "execution_count": null,
   "metadata": {},
   "outputs": [],
   "source": [
    "# Create agent\n",
    "home_network_agent = agents.create_agent(\n",
    "    HOME_NETWORK_AGENT_NAME,\n",
    "    agent_description,\n",
    "    agent_instruction,\n",
    "    config_data['model_information']['doorbell_sub_agent_model'],\n",
    "    kb_arns=[],\n",
    "    code_interpretation=False\n",
    ")"
   ]
  },
  {
   "cell_type": "markdown",
   "metadata": {},
   "source": [
    "Now, we will use some lambda environment variables from the config file. These include the code generation model of choice, inference parameters, the prompt to generate the code and the code execution time out."
   ]
  },
  {
   "cell_type": "code",
   "execution_count": null,
   "metadata": {},
   "outputs": [],
   "source": [
    "# define the lambda environment variables\n",
    "lambda_env_vars = config_data['code_generation_model_information']\n",
    "lambda_env_vars['CODE_GEN_PROMPT_ID'] = promptId  \n",
    "lambda_env_vars['HOME_NETWORK_AUTH_TOKEN'] = os.getenv(\"HOME_NETWORK_AUTH_TOKEN\")\n",
    "\n",
    "logger.info(f\"Lambda environment variables: {json.dumps(lambda_env_vars, indent=2)}\")\n"
   ]
  },
  {
   "cell_type": "markdown",
   "metadata": {},
   "source": [
    "### Get any requirements to be installed in the custom container used within the lambda function\n",
    "---\n",
    "\n",
    "In this portion of the notebook, we will fetch the requirements to be installed within the custom container that will be used and attached to the lambda function. In this example, we are installing the `requests` library within the container set up.\n",
    "\n",
    "The `requests` library will then be used to execute the generated code within the lambda so that it does not have to be installed every time before executing the generated code."
   ]
  },
  {
   "cell_type": "code",
   "execution_count": null,
   "metadata": {},
   "outputs": [],
   "source": [
    "# To configure more libraries that are required, mention them in the 'lambda_docker_set_up' within the \n",
    "# config.yaml file\n",
    "lambda_function_libraries = config_data['lambda_docker_set_up']['libraries']\n",
    "lambda_platform = config_data['lambda_docker_set_up']['platform']\n",
    "logger.info(f\"The libraries that will be installed within the custom container are as follows: {lambda_function_libraries}\")"
   ]
  },
  {
   "cell_type": "code",
   "execution_count": null,
   "metadata": {},
   "outputs": [],
   "source": [
    "agent_id = home_network_agent[0]\n",
    "agents.wait_agent_status_update(agent_id)\n",
    "\n",
    "agents.add_action_group_with_lambda(\n",
    "    agent_name=HOME_NETWORK_AGENT_NAME,\n",
    "    lambda_function_name=f\"{HOME_NETWORK_AGENT_NAME}_lambda\", \n",
    "    source_code_file=HOME_NETWORK_AGENT_LAMBDA_FUNCTION_NAME,\n",
    "    agent_functions=functions_def,\n",
    "    agent_action_group_name=HOME_NETWORK_ACTION_GROUP_NAME,\n",
    "    agent_action_group_description=\"Functions to query KB, generate and execute code\",\n",
    "    lambda_function_libraries=lambda_function_libraries,\n",
    "    platform=lambda_platform\n",
    ")"
   ]
  },
  {
   "cell_type": "code",
   "execution_count": null,
   "metadata": {},
   "outputs": [],
   "source": [
    "agents._bedrock_agent_client.prepare_agent(agentId=agent_id)\n",
    "agents.wait_agent_status_update(agent_id)\n",
    "agent_alias = agents._bedrock_agent_client.create_agent_alias(\n",
    "    agentId=agent_id,\n",
    "    agentAliasName=\"demo\"\n",
    ")"
   ]
  },
  {
   "cell_type": "code",
   "execution_count": null,
   "metadata": {},
   "outputs": [],
   "source": [
    "%store -r\n",
    "home_network_kb_id"
   ]
  },
  {
   "cell_type": "code",
   "execution_count": null,
   "metadata": {},
   "outputs": [],
   "source": [
    "# Create a Lambda client and attach the API key as env variable to the lambda function\n",
    "lambda_client = boto3.client('lambda')\n",
    "lambda_function_name = f\"{HOME_NETWORK_AGENT_NAME}_lambda\"\n",
    "environment_variables = {\n",
    "    'HOME_NETWORK_KB_LAMBDA_FUNCTION_NAME': HOME_NETWORK_KB_LAMBDA_FUNCTION_NAME,\n",
    "    'KB_ID': home_network_kb_id,\n",
    "    'REGION': region, \n",
    "} | lambda_env_vars\n",
    "\n",
    "response = lambda_client.update_function_configuration(\n",
    "    FunctionName=lambda_function_name,\n",
    "    Environment={\n",
    "        'Variables': environment_variables\n",
    "    },\n",
    ")\n",
    "logger.info(f\"Updated the {lambda_function_name} with the required environment variables\")"
   ]
  },
  {
   "cell_type": "markdown",
   "metadata": {},
   "source": [
    "### Test the Home Networking agent\n",
    "---\n",
    "\n",
    "In this portion of the notebook, we will ask questions to the agent with parameters. First, we will call the lambda function and then with the output of the lambda function, the agent will be invoked."
   ]
  },
  {
   "cell_type": "code",
   "execution_count": null,
   "metadata": {},
   "outputs": [],
   "source": [
    "time.sleep(30)"
   ]
  },
  {
   "cell_type": "markdown",
   "metadata": {},
   "source": [
    "## Question 1"
   ]
  },
  {
   "cell_type": "code",
   "execution_count": null,
   "metadata": {},
   "outputs": [],
   "source": [
    "%%time\n",
    "session_id:str = str(uuid.uuid1())\n",
    "\n",
    "response = agents.invoke(\n",
    "    \"\"\"What is the signal strength of my porch camera?\"\"\",\n",
    "    home_network_agent[0], enable_trace=True, session_id=session_id\n",
    ")\n",
    "print(\"====================\")\n",
    "print(response)"
   ]
  },
  {
   "cell_type": "code",
   "execution_count": null,
   "metadata": {},
   "outputs": [],
   "source": [
    "%%time\n",
    "response = agents.invoke(\n",
    "    \"\"\"The deviceId of the porch camera is madhurdummy2039.\"\"\",\n",
    "    home_network_agent[0], enable_trace=True, session_id=session_id\n",
    ")\n",
    "print(\"====================\")\n",
    "print(response)"
   ]
  },
  {
   "cell_type": "markdown",
   "metadata": {},
   "source": [
    "The auth token needs to be provided, so we see the following errors in the logs: \n",
    "\n",
    "```{'execution_result': {'stdout': \"An error occurred: HTTPSConnectionPool(host='api.smarthomesecurity.example.com', port=443): Max retries exceeded with url: /v1/devices/cameras/madhurdummy2039/status (Caused by NewConnectionError('<urllib3.connection.HTTPSConnection object at 0x7fe6dbd6f620>: Failed to establish a new connection: [Errno -2] Name or service not known'))\\n\", 'stderr': '', 'return_code': 0, 'success': True}}```"
   ]
  },
  {
   "cell_type": "code",
   "execution_count": null,
   "metadata": {},
   "outputs": [],
   "source": [
    "home_network_agent_alias_id, home_network_agent_alias_arn = agents.create_agent_alias(\n",
    "    home_network_agent[0], 'v1'\n",
    ")\n",
    "home_network_agent_id = home_network_agent[0]"
   ]
  },
  {
   "cell_type": "code",
   "execution_count": null,
   "metadata": {},
   "outputs": [],
   "source": [
    "home_network_agent_arn = agents.get_agent_arn_by_name(HOME_NETWORK_AGENT_NAME)\n",
    "home_network_agent_id = home_network_agent[0]\n",
    "home_network_kb = HOME_NETWORK_KB_NAME\n",
    "\n",
    "%store home_network_agent_arn\n",
    "%store home_network_agent_id\n",
    "%store home_network_agent_alias_id\n",
    "%store home_network_kb\n",
    "%store home_network_agent_alias_arn"
   ]
  }
 ],
 "metadata": {
  "kernelspec": {
   "display_name": "base",
   "language": "python",
   "name": "python3"
  },
  "language_info": {
   "codemirror_mode": {
    "name": "ipython",
    "version": 3
   },
   "file_extension": ".py",
   "mimetype": "text/x-python",
   "name": "python",
   "nbconvert_exporter": "python",
   "pygments_lexer": "ipython3",
   "version": "3.12.8"
  }
 },
 "nbformat": 4,
 "nbformat_minor": 2
}
