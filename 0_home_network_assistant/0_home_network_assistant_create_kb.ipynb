{
 "cells": [
  {
   "cell_type": "markdown",
   "metadata": {},
   "source": [
    "### Home Network Assistant\n",
    "---\n",
    "\n",
    "In this notebook, we will create a Knowledge base for our Home Network Agent. This agent will have access to a knowledge base for retrieval at runtime which will contain API specs on the home networking system.\n",
    "\n",
    "Amazon Bedrock Agents enable generative AI applications to execute `multi-step` business tasks using natural language.\n",
    "\n",
    "In our first example we will create a `Home Networking Assistant` sub agent that will have access to an `API` spec and will be able to generate code to call the `API` based on the user request.\n",
    "\n",
    "**Agent code generation and execution workflow**:\n",
    "\n",
    "1. The workflow starts with information retrieval. We create a knowledge base, and store the information from the `Home Network openAPI spec` into the knowledge base. The OpenAPI spec is provided by the user in the `data` folder.\n",
    "\n",
    "1. This knowledge base will be wrapped within a lambda function that will be invoked based on the user query. It will `retrieve` the top `k` results from the knowledge base and send it as an input to the next step.\n",
    "\n",
    "1. Next, a `Home Networking` assistant agent will have access to the required API specs to use to generate code. It will use the information from the Knowledge base and generate code for the given API spec, save the code and execute the code based on the parameters provided by the user."
   ]
  },
  {
   "cell_type": "markdown",
   "metadata": {},
   "source": [
    "### Setup\n",
    "\n",
    "Firstly, you are going to install boto3 dependencies from pip. Make sure you have the latest version of it for full capabilities"
   ]
  },
  {
   "cell_type": "markdown",
   "metadata": {},
   "source": [
    "#### Restart kernel\n",
    "\n",
    "If you face issues to apply the latest multi-agent capabilities, uncomment this line to restart kernel to ensure packages updates to take effect"
   ]
  },
  {
   "cell_type": "code",
   "execution_count": null,
   "metadata": {},
   "outputs": [],
   "source": [
    "import IPython\n",
    "\n",
    "# IPython.Application.instance().kernel.do_shutdown(True)"
   ]
  },
  {
   "cell_type": "code",
   "execution_count": null,
   "metadata": {},
   "outputs": [],
   "source": [
    "# Check your boto3 version\n",
    "!pip freeze | grep boto3"
   ]
  },
  {
   "cell_type": "code",
   "execution_count": null,
   "metadata": {},
   "outputs": [],
   "source": [
    "# import the required packages and libraries\n",
    "import os\n",
    "import sys\n",
    "import boto3\n",
    "import logging\n",
    "from typing import Optional\n",
    "# Get the current file's directory\n",
    "current_dir = os.path.dirname(os.path.abspath('__file__'))\n",
    "# Get the parent directory\n",
    "parent_dir = os.path.dirname(current_dir)\n",
    "print(parent_dir)\n",
    "# Add the parent directory to sys.path\n",
    "sys.path.append(parent_dir)\n",
    "from globals import *"
   ]
  },
  {
   "cell_type": "code",
   "execution_count": null,
   "metadata": {},
   "outputs": [],
   "source": [
    "# set a logger\n",
    "logging.basicConfig(format='[%(asctime)s] p%(process)s {%(filename)s:%(lineno)d} %(levelname)s - %(message)s', level=logging.INFO)\n",
    "logger = logging.getLogger(__name__)"
   ]
  },
  {
   "cell_type": "code",
   "execution_count": null,
   "metadata": {},
   "outputs": [],
   "source": [
    "# configure the sts client, the boto3 session and other variables\n",
    "sts_client = boto3.client('sts')\n",
    "session = boto3.session.Session()\n",
    "\n",
    "account_id = sts_client.get_caller_identity()[\"Account\"]\n",
    "region = \"us-east-1\" if session.region_name is None else session.region_name\n",
    "account_id_suffix = account_id[:3]\n",
    "agent_suffix = f\"{region}-{account_id_suffix}\"\n",
    "\n",
    "s3_client = boto3.client('s3', region)\n",
    "bedrock_client = boto3.client('bedrock-runtime', region)"
   ]
  },
  {
   "cell_type": "markdown",
   "metadata": {},
   "source": [
    "### Importing helper functions\n",
    "\n",
    "On following section, we're adding `knowledge_base_helper.py` on Python path, so the files can be recognized and their functionalities can be invoked. This module contains a helper class for building and using Knowledge Bases for Amazon Bedrock. This class provides a convenient interface for working with KBs such as:\n",
    "\n",
    "Those files contain helper classes totally focused on make labs experience smoothly.\n",
    "\n",
    "1. `Creating KBs`: This class contains functions to create, update and invoke knowledge bases\n",
    "1. `Manage IAM roles`: Contains functions to manage, create and update IAM roles and OpenSearch Serverless.\n",
    "\n",
    "In this notebook, we specifically use two functions:\n",
    "\n",
    "1. `create_or_retrieve_knowledge_base`: This function creates a new Knowledge Base or retrieves an existing one.\n",
    "1. `synchronize_data`: This function synchronizes the Knowledge Base with the storage where data is configured."
   ]
  },
  {
   "cell_type": "code",
   "execution_count": null,
   "metadata": {},
   "outputs": [],
   "source": [
    "import sys\n",
    "sys.path.insert(0, \".\")\n",
    "sys.path.insert(1, \"..\")\n",
    "# Import utility functions and helper functions for agents\n",
    "from utils.utils import *\n",
    "from utils.knowledge_base_helper import (\n",
    "    KnowledgeBasesForAmazonBedrock\n",
    ")\n",
    "\n",
    "# Initialize the KB class\n",
    "kb = KnowledgeBasesForAmazonBedrock()"
   ]
  },
  {
   "cell_type": "markdown",
   "metadata": {},
   "source": [
    "### Load the config file\n",
    "--- \n",
    "\n",
    "Load the config file that contains information on the models, data directories, etc."
   ]
  },
  {
   "cell_type": "code",
   "execution_count": null,
   "metadata": {},
   "outputs": [],
   "source": [
    "# Get the absolute path to the config file\n",
    "# This config file contains data about the directory paths, the API specs that\n",
    "# are used to generate the code, and the agent foundation models that are used to generate the code.\n",
    "BASE_DIR = os.path.abspath(sys.path[1])\n",
    "CONFIG_FPATH = os.path.join(BASE_DIR, CONFIG_FNAME)\n",
    "config_data = load_config(CONFIG_FPATH)\n",
    "logger.info(f\"Loaded config from local file system: {json.dumps(config_data, indent=2)}\")"
   ]
  },
  {
   "cell_type": "markdown",
   "metadata": {},
   "source": [
    "### Step 1: Create a knowledge base and wrap it within a lambda function\n",
    "---\n",
    "\n",
    "In this portion of the notebook, we will create a knowledge base. This knowledge base is for the home networking API spec information and will be wrapped within a lambda function. It will use the `retrieve` API to return the top `k` results based on the user query. \n",
    "\n",
    "Once we have created the knowledge base, we will wrap it in a lambda function and test it. As a part of this test, the user will be able to ask any question about the API spec and retrieve the top `k` results based on the query.\n",
    "\n",
    "**Note**: We are using `HYBRID` search in this retrieval. Hybrid search brings the best of both approaches: precision of semantic search and coverage of keywords. It works great for RAG-based applications where the retriever has to handle a wide variety of natural language queries."
   ]
  },
  {
   "cell_type": "code",
   "execution_count": null,
   "metadata": {},
   "outputs": [],
   "source": [
    "# This is the bucket where the API spec is loaded and synced from into the KB. If this bucket is not \n",
    "# configured, it is automatically created.\n",
    "HOME_NETWORK_S3_BUCKET: str = config_data['dir_paths']['knowledge_base_info'].get('home_network_knowledge_bucket')\n",
    "logger.info(f\"Home Network S3 bucket configured by the user: {HOME_NETWORK_S3_BUCKET}\")"
   ]
  },
  {
   "cell_type": "code",
   "execution_count": null,
   "metadata": {},
   "outputs": [],
   "source": [
    "%%time\n",
    "# First ensure the bucket exists. This bucket will contain information about the spec\n",
    "# which will be synced with the knowledge base. In this case, we are creating an \"home-network-kb\" bucket\n",
    "# to store information about the home network API spec\n",
    "if create_s3_bucket_for_kb(HOME_NETWORK_S3_BUCKET, region):\n",
    "    home_network_kb_id, ds_id = kb.create_or_retrieve_knowledge_base(\n",
    "        HOME_NETWORK_KB_NAME,\n",
    "        HOME_NETWORK_KB_DESCRIPTION,\n",
    "        HOME_NETWORK_S3_BUCKET, \n",
    "    )\n",
    "    logger.info(f\"Knowledge Base ID: {home_network_kb_id}\")\n",
    "    logger.info(f\"Data Source ID: {ds_id}\")\n",
    "else:\n",
    "    logger.error(\"Failed to create or verify S3 bucket. Cannot proceed with knowledge base creation.\")"
   ]
  },
  {
   "cell_type": "markdown",
   "metadata": {},
   "source": [
    "### Load the Home Networking data in the `Home Network Knowledge Base`\n",
    "---\n",
    "\n",
    "In this portion of the notebook, we will load the Home Network API spec as a `JSON` file in the configured S3 bucket. After that, we will sync the `KB` with data in S3 and use that as a tool for our Home networking agent to look for the relevant API and generate code to call the API."
   ]
  },
  {
   "cell_type": "code",
   "execution_count": null,
   "metadata": {},
   "outputs": [],
   "source": [
    "# retrieve the FMC spec json file from the data directory\n",
    "home_network_api_sec_fpath: str = os.path.join(BASE_DIR, config_data['dir_paths']['data_prefix'], config_data['dir_paths']['api_specs'].get('home_network_api_spec'))\n",
    "logger.info(f\"Uploading the Home networking API spec '{home_network_api_sec_fpath}' to {HOME_NETWORK_S3_BUCKET}\")\n",
    "upload_file_to_s3(home_network_api_sec_fpath, HOME_NETWORK_S3_BUCKET)\n",
    "logger.info(f\"Successfully uploaded the Home networking API spec to {HOME_NETWORK_S3_BUCKET}\")"
   ]
  },
  {
   "cell_type": "markdown",
   "metadata": {},
   "source": [
    "### Synchronize the Knowledge Base with Data in `S3`\n",
    "---\n",
    "\n",
    "Now we will sync the data from the S3 bucket into the Home Networking Knowledge Base"
   ]
  },
  {
   "cell_type": "code",
   "execution_count": null,
   "metadata": {},
   "outputs": [],
   "source": [
    "# sync knowledge base\n",
    "kb.synchronize_data(home_network_kb_id, ds_id)"
   ]
  },
  {
   "cell_type": "code",
   "execution_count": null,
   "metadata": {},
   "outputs": [],
   "source": [
    "kb_info = kb.get_kb(home_network_kb_id)\n",
    "kb_arn = kb_info['knowledgeBase']['knowledgeBaseArn']\n",
    "\n",
    "# Initialize the kb config that we will pass to the sub agent\n",
    "kb_config = {\n",
    "    'kb_id': home_network_kb_id,\n",
    "    'kb_instruction': \"\"\"Access this knowledge base to look for the correct API based on the user query. Retrieve the relevant searches based on the user query.\"\"\"\n",
    "}"
   ]
  },
  {
   "cell_type": "markdown",
   "metadata": {},
   "source": [
    "### Test the results from the `Home Networking knowledge base`\n",
    "---\n",
    "\n",
    "In this portion of the step, we will test the Home Networking knowledge base with the `retrieve API` to retrieve the top `k` relevant searches based on the user query."
   ]
  },
  {
   "cell_type": "code",
   "execution_count": null,
   "metadata": {},
   "outputs": [],
   "source": [
    "KNOWLEDGE_BASE_INFO: str = config_data['dir_paths']['knowledge_base_info']\n",
    "logger.info(f\"Provided knowledge base information: {json.dumps(KNOWLEDGE_BASE_INFO, indent=2)}\")"
   ]
  },
  {
   "cell_type": "code",
   "execution_count": null,
   "metadata": {},
   "outputs": [],
   "source": [
    "%%time\n",
    "query = \"\"\"Is my front door camera online right now?\"\"\"\n",
    "resp = query_knowledge_base(query, home_network_kb_id, KNOWLEDGE_BASE_INFO)"
   ]
  },
  {
   "cell_type": "code",
   "execution_count": null,
   "metadata": {},
   "outputs": [],
   "source": [
    "logger.info(f\"Response from the KB {home_network_kb_id}: {json.dumps(resp, indent=2)}\")"
   ]
  },
  {
   "cell_type": "markdown",
   "metadata": {},
   "source": [
    "### Wrap the knowledge base in a lambda function\n",
    "---\n",
    "\n",
    "Next, we will wrap the function above in a lambda function and then invoke the lambda function to get the responses"
   ]
  },
  {
   "cell_type": "code",
   "execution_count": null,
   "metadata": {},
   "outputs": [],
   "source": [
    "# Deploy the Lambda\n",
    "function_arn = create_kb_lambda(\n",
    "    lambda_function_name=HOME_NETWORK_KB_LAMBDA_FUNCTION_NAME,\n",
    "    source_code_file=HOME_NETWORK_KB_LAMBDA_FUNCTION,\n",
    "    region=region,\n",
    "    kb_id=home_network_kb_id\n",
    ")\n",
    "\n",
    "logger.info(f\"Lambda function ARN: {function_arn}\")"
   ]
  },
  {
   "cell_type": "code",
   "execution_count": null,
   "metadata": {},
   "outputs": [],
   "source": [
    "time.sleep(30)"
   ]
  },
  {
   "cell_type": "code",
   "execution_count": null,
   "metadata": {},
   "outputs": [],
   "source": [
    "%%time\n",
    "query = \"\"\"How much storage is left on my garage camera?\"\"\"\n",
    "resp = query_lambda(query, region, home_network_kb_id, HOME_NETWORK_KB_LAMBDA_FUNCTION_NAME)\n",
    "\n",
    "# Print results\n",
    "print(\"\\nRetrieved chunks:\")\n",
    "for chunk in resp['chunks']:\n",
    "    print(f\"\\nText: {chunk['text']}\")\n",
    "    print(f\"Score: {chunk['score']}\")\n",
    "    print(\"-\" * 50)"
   ]
  },
  {
   "cell_type": "code",
   "execution_count": null,
   "metadata": {},
   "outputs": [],
   "source": [
    "resp"
   ]
  },
  {
   "cell_type": "code",
   "execution_count": null,
   "metadata": {},
   "outputs": [],
   "source": [
    "%%time\n",
    "\n",
    "# This points to the signalStrength field in the CameraStatus\n",
    "query = \"\"\"What is the signal strength of my porch camera?\"\"\"\n",
    "resp = query_lambda(query, region, home_network_kb_id, HOME_NETWORK_KB_LAMBDA_FUNCTION_NAME)\n",
    "\n",
    "# Print results\n",
    "print(\"\\nRetrieved chunks:\")\n",
    "for chunk in resp['chunks']:\n",
    "    print(f\"\\nText: {chunk['text']}\")\n",
    "    print(f\"Score: {chunk['score']}\")\n",
    "    print(\"-\" * 50)"
   ]
  },
  {
   "cell_type": "code",
   "execution_count": null,
   "metadata": {},
   "outputs": [],
   "source": [
    "resp"
   ]
  },
  {
   "cell_type": "code",
   "execution_count": null,
   "metadata": {},
   "outputs": [],
   "source": [
    "home_network_kb_id"
   ]
  },
  {
   "cell_type": "code",
   "execution_count": null,
   "metadata": {},
   "outputs": [],
   "source": [
    "%store home_network_kb_id"
   ]
  }
 ],
 "metadata": {
  "kernelspec": {
   "display_name": "base",
   "language": "python",
   "name": "python3"
  },
  "language_info": {
   "codemirror_mode": {
    "name": "ipython",
    "version": 3
   },
   "file_extension": ".py",
   "mimetype": "text/x-python",
   "name": "python",
   "nbconvert_exporter": "python",
   "pygments_lexer": "ipython3",
   "version": "3.12.8"
  }
 },
 "nbformat": 4,
 "nbformat_minor": 2
}
