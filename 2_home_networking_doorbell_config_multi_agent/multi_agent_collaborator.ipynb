{
 "cells": [
  {
   "cell_type": "markdown",
   "metadata": {},
   "source": [
    "### Multi Agent Collaborator\n",
    "---\n",
    "\n",
    "In this notebook, we create a multi-agent collaborator for the `Home networking` and `Doorbell configuration` agents.\n",
    "\n",
    "`Multi-agent Collaboration` is a Amazon Bedrock Agents native capability that enables a hierarchical collaboration between agents. You can now enable agent collaboration and associate secondary agents to a supervisor one. These secondary agents can be any existing agent within the same account, including agents that have collaboration themselves. This composable pattern allows you to build a chain of agents, as shown in the figure below.\n",
    "\n",
    "![multi-agent-arch](multi-agent-diagram-1.png)"
   ]
  },
  {
   "cell_type": "markdown",
   "metadata": {},
   "source": [
    "### Setup\n",
    "\n",
    "Make sure that your boto3 version is the latest one."
   ]
  },
  {
   "cell_type": "code",
   "execution_count": null,
   "metadata": {},
   "outputs": [],
   "source": [
    "!pip freeze | grep boto3"
   ]
  },
  {
   "cell_type": "markdown",
   "metadata": {},
   "source": [
    "### Creating Agent\n",
    "\n",
    "On this section we're going to declare global variables that will be act as helpers during entire notebook and you will start to create your agent."
   ]
  },
  {
   "cell_type": "code",
   "execution_count": null,
   "metadata": {},
   "outputs": [],
   "source": [
    "import os\n",
    "import sys\n",
    "import uuid\n",
    "import boto3\n",
    "\n",
    "sts_client = boto3.client('sts')\n",
    "session = boto3.session.Session()\n",
    "\n",
    "account_id = sts_client.get_caller_identity()[\"Account\"]\n",
    "region = session.region_name\n",
    "account_id_suffix = account_id[:3]\n",
    "agent_suffix = f\"{region}-{account_id_suffix}\"\n",
    "\n",
    "# Get the current file's directory\n",
    "current_dir = os.path.dirname(os.path.abspath('__file__'))\n",
    "\n",
    "# Get the parent directory\n",
    "parent_dir = os.path.dirname(current_dir)\n",
    "print(parent_dir)\n",
    "\n",
    "# Add the parent directory to sys.path\n",
    "sys.path.append(parent_dir)\n",
    "from globals import *\n",
    "\n",
    "energy_agent_role_name = f'AmazonBedrockExecutionRoleForAgents_{MULTI_AGENT_NAME}'"
   ]
  },
  {
   "cell_type": "code",
   "execution_count": null,
   "metadata": {},
   "outputs": [],
   "source": [
    "import sys\n",
    "\n",
    "sys.path.insert(0, \".\")\n",
    "sys.path.insert(1, \"..\")\n",
    "\n",
    "from utils.bedrock_agent_helper import (\n",
    "    AgentsForAmazonBedrock\n",
    ")\n",
    "agents = AgentsForAmazonBedrock()"
   ]
  },
  {
   "cell_type": "code",
   "execution_count": null,
   "metadata": {},
   "outputs": [],
   "source": [
    "# Create the multi agent\n",
    "multi_agent = agents.create_agent(\n",
    "    MULTI_AGENT_NAME,\n",
    "    \"\"\"\n",
    "        You are a home networking and doorbell configuration API expert. You are able to respond to user queries and provide the information to their questions.\n",
    "    \"\"\",\n",
    "    \"\"\"\n",
    "        You are a home networking and doorbell configuration API expert. You are able to respond to user queries and provide the information to their questions.\n",
    "        You are able to perform actions and route requests to collaborator home networking and doorbell configuration sub agents that are responsible for returning you with the information on\n",
    "        respective API specs and based on the user question.\n",
    "        Resist the temptation to ask the user for input. Only do so after you have exhausted available actions. \n",
    "        Never ask the user for information that you already can retrieve yourself through available actions. \n",
    "    \"\"\",\n",
    "    f\"us.{BEDROCK_MODEL_NOVA_LITE}\",\n",
    "    agent_collaboration='SUPERVISOR'\n",
    ")\n",
    "multi_agent"
   ]
  },
  {
   "cell_type": "code",
   "execution_count": null,
   "metadata": {},
   "outputs": [],
   "source": [
    "multi_agent_id = multi_agent[0]\n",
    "%store multi_agent_id"
   ]
  },
  {
   "cell_type": "code",
   "execution_count": null,
   "metadata": {},
   "outputs": [],
   "source": [
    "multi_agent_id"
   ]
  },
  {
   "cell_type": "markdown",
   "metadata": {},
   "source": [
    "### Associate Collaborators\n",
    "\n",
    "On this section, we're going to recover alias_id from previous agents (sub-agents) to add all of them inside energy one (which is multi-agent collaborator)."
   ]
  },
  {
   "cell_type": "code",
   "execution_count": null,
   "metadata": {},
   "outputs": [],
   "source": [
    "%store -r\n",
    "doorbell_agent_alias_arn, home_network_agent_alias_arn"
   ]
  },
  {
   "cell_type": "code",
   "execution_count": null,
   "metadata": {},
   "outputs": [],
   "source": [
    "sub_agents_list = [\n",
    "    {\n",
    "        'sub_agent_alias_arn': home_network_agent_alias_arn,\n",
    "        'sub_agent_instruction': \"\"\"Route any home networking specific user queries to this agent. This agent specializes in home networking related questions.\"\"\",\n",
    "        'sub_agent_association_name': 'HomeNetworkingCollaborator',\n",
    "        'relay_conversation_history': 'TO_COLLABORATOR'\n",
    "    },\n",
    "    {\n",
    "        'sub_agent_alias_arn': doorbell_agent_alias_arn,\n",
    "        'sub_agent_instruction': \"\"\"Route any doorbell configuration specific user queries to this agent. This agent specializes in doorbell configuration related questions.\"\"\",\n",
    "        'sub_agent_association_name': 'DoorbellConfigurationCollaborator',\n",
    "        'relay_conversation_history': 'TO_COLLABORATOR'\n",
    "    }\n",
    "]"
   ]
  },
  {
   "cell_type": "code",
   "execution_count": null,
   "metadata": {},
   "outputs": [],
   "source": [
    "sub_agents_list"
   ]
  },
  {
   "cell_type": "code",
   "execution_count": null,
   "metadata": {},
   "outputs": [],
   "source": [
    "# associate the fmc and meraki sub agents to the main one\n",
    "multi_agent_alias_id, multi_agent_alias_arn = agents.associate_sub_agents(\n",
    "    multi_agent_id, sub_agents_list\n",
    ")"
   ]
  },
  {
   "cell_type": "code",
   "execution_count": null,
   "metadata": {},
   "outputs": [],
   "source": [
    "multi_agent_names = {\n",
    "    f\"{doorbell_agent_id}/{doorbell_agent_alias_id}\": DOORBELL_AGENT_NAME,\n",
    "    f\"{home_network_agent_id}/{home_network_agent_alias_id}\": HOME_NETWORK_AGENT_NAME\n",
    "}\n",
    "\n",
    "multi_agent_names"
   ]
  },
  {
   "cell_type": "markdown",
   "metadata": {},
   "source": [
    "### Route to the Home Networking sub agent\n",
    "---\n",
    "\n",
    "In this portion of the notebook, we will ask the supervisor a question that needs to be routed to the home networking sub agent. The supervisor agent will lay out its plan, route it to the home networking sub agent and the sub agent will proceed with completing its tasks from there onwards."
   ]
  },
  {
   "cell_type": "code",
   "execution_count": null,
   "metadata": {},
   "outputs": [],
   "source": [
    "%%time\n",
    "session_id:str = str(uuid.uuid1())\n",
    "\n",
    "response = agents.invoke(\n",
    "    \"\"\"Is my living room camera online? My devideId is madhur2039\"\"\", \n",
    "    multi_agent_id,\n",
    "    session_id=session_id,\n",
    "    enable_trace=True,\n",
    "    multi_agent_names=multi_agent_names\n",
    ")\n",
    "print(\"====================\")\n",
    "print(response)"
   ]
  },
  {
   "cell_type": "markdown",
   "metadata": {},
   "source": [
    "Since the API specs that we use as a part of this solution are synthetically generated, this output will return an error with the URL. Replace the API spec with your custom spec and re-run this solution to get accurate results.\n",
    "\n",
    "```{'execution_result': {'stdout': \"Other error occurred: HTTPSConnectionPool(host='api.smarthomesecurity.example.com', port=443): Max retries exceeded with url: /v1/devices/cameras/madhur2039/status (Caused by NewConnectionError('<urllib3.connection.HTTPSConnection object at 0x7fbb3a043620>: Failed to establish a new connection: [Errno -2] Name or service not known'))\\n\", 'stderr': '', 'return_code': 0, 'success': True}}```\n",
    "\n",
    "As given in the output above, the agent tries to call the API by executing the generated code, but receives an error because the API is synthetically generated."
   ]
  },
  {
   "cell_type": "markdown",
   "metadata": {},
   "source": [
    "### Route to both agents in parallel\n",
    "---\n",
    "\n",
    "In this portion of the notebook, we will ask the supervisor agent two questions. The supervisor agent will break the task into sub tasks and identify a plan. As a part of this plan, the request will be routed to the respective collaborator agents that will complete their associated sub tasks. As a part of this execution, there will be collaboration back and forth with the supervisor agent and the supervisor agent will return a human readable, consolidated result at the end."
   ]
  },
  {
   "cell_type": "code",
   "execution_count": null,
   "metadata": {},
   "outputs": [],
   "source": [
    "%%time\n",
    "session_id:str = str(uuid.uuid1())\n",
    "\n",
    "response = agents.invoke(\n",
    "    \"\"\"Is my living room camera online? My devideId is madhur2039. Also, I want to get email notifications for deliveries but push notifications for when someone rings the doorbell.\"\"\", \n",
    "    multi_agent_id,\n",
    "    session_id=session_id,\n",
    "    enable_trace=True,\n",
    "    multi_agent_names=multi_agent_names\n",
    ")\n",
    "print(\"====================\")\n",
    "print(response)"
   ]
  }
 ],
 "metadata": {
  "kernelspec": {
   "display_name": "base",
   "language": "python",
   "name": "python3"
  },
  "language_info": {
   "codemirror_mode": {
    "name": "ipython",
    "version": 3
   },
   "file_extension": ".py",
   "mimetype": "text/x-python",
   "name": "python",
   "nbconvert_exporter": "python",
   "pygments_lexer": "ipython3",
   "version": "3.12.8"
  }
 },
 "nbformat": 4,
 "nbformat_minor": 2
}
